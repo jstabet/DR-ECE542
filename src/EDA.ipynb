{
 "cells": [
  {
   "cell_type": "markdown",
   "metadata": {},
   "source": [
    "# EDA"
   ]
  },
  {
   "cell_type": "markdown",
   "metadata": {},
   "source": [
    "Load in the data:"
   ]
  },
  {
   "cell_type": "code",
   "execution_count": 14,
   "metadata": {},
   "outputs": [],
   "source": [
    "import os\n",
    "import pandas as pd\n",
    "import numpy as np\n",
    "import seaborn as sns\n",
    "import matplotlib.pyplot as plt\n",
    "from PIL import Image"
   ]
  },
  {
   "cell_type": "code",
   "execution_count": 15,
   "metadata": {},
   "outputs": [
    {
     "data": {
      "text/html": [
       "<div>\n",
       "<style scoped>\n",
       "    .dataframe tbody tr th:only-of-type {\n",
       "        vertical-align: middle;\n",
       "    }\n",
       "\n",
       "    .dataframe tbody tr th {\n",
       "        vertical-align: top;\n",
       "    }\n",
       "\n",
       "    .dataframe thead th {\n",
       "        text-align: right;\n",
       "    }\n",
       "</style>\n",
       "<table border=\"1\" class=\"dataframe\">\n",
       "  <thead>\n",
       "    <tr style=\"text-align: right;\">\n",
       "      <th></th>\n",
       "      <th>image</th>\n",
       "      <th>level</th>\n",
       "    </tr>\n",
       "  </thead>\n",
       "  <tbody>\n",
       "    <tr>\n",
       "      <th>0</th>\n",
       "      <td>10_left</td>\n",
       "      <td>0</td>\n",
       "    </tr>\n",
       "    <tr>\n",
       "      <th>1</th>\n",
       "      <td>10_right</td>\n",
       "      <td>0</td>\n",
       "    </tr>\n",
       "    <tr>\n",
       "      <th>2</th>\n",
       "      <td>13_left</td>\n",
       "      <td>0</td>\n",
       "    </tr>\n",
       "    <tr>\n",
       "      <th>3</th>\n",
       "      <td>13_right</td>\n",
       "      <td>0</td>\n",
       "    </tr>\n",
       "    <tr>\n",
       "      <th>4</th>\n",
       "      <td>15_left</td>\n",
       "      <td>1</td>\n",
       "    </tr>\n",
       "    <tr>\n",
       "      <th>...</th>\n",
       "      <td>...</td>\n",
       "      <td>...</td>\n",
       "    </tr>\n",
       "    <tr>\n",
       "      <th>35121</th>\n",
       "      <td>44347_right</td>\n",
       "      <td>0</td>\n",
       "    </tr>\n",
       "    <tr>\n",
       "      <th>35122</th>\n",
       "      <td>44348_left</td>\n",
       "      <td>0</td>\n",
       "    </tr>\n",
       "    <tr>\n",
       "      <th>35123</th>\n",
       "      <td>44348_right</td>\n",
       "      <td>0</td>\n",
       "    </tr>\n",
       "    <tr>\n",
       "      <th>35124</th>\n",
       "      <td>44349_left</td>\n",
       "      <td>0</td>\n",
       "    </tr>\n",
       "    <tr>\n",
       "      <th>35125</th>\n",
       "      <td>44349_right</td>\n",
       "      <td>1</td>\n",
       "    </tr>\n",
       "  </tbody>\n",
       "</table>\n",
       "<p>35126 rows × 2 columns</p>\n",
       "</div>"
      ],
      "text/plain": [
       "             image  level\n",
       "0          10_left      0\n",
       "1         10_right      0\n",
       "2          13_left      0\n",
       "3         13_right      0\n",
       "4          15_left      1\n",
       "...            ...    ...\n",
       "35121  44347_right      0\n",
       "35122   44348_left      0\n",
       "35123  44348_right      0\n",
       "35124   44349_left      0\n",
       "35125  44349_right      1\n",
       "\n",
       "[35126 rows x 2 columns]"
      ]
     },
     "execution_count": 15,
     "metadata": {},
     "output_type": "execute_result"
    }
   ],
   "source": [
    "# data_folder = '../data/train'\n",
    "# img_files = os.listdir(data_folder)\n",
    "\n",
    "labels = pd.read_csv('../data/trainLabels.csv')\n",
    "labels"
   ]
  },
  {
   "cell_type": "markdown",
   "metadata": {},
   "source": [
    "Checking to make sure train imgs/labels match:"
   ]
  },
  {
   "cell_type": "code",
   "execution_count": 3,
   "metadata": {},
   "outputs": [],
   "source": [
    "# assert len(img_files) == len(labels)\n",
    "# for i in labels['image']:\n",
    "#     assert os.path.exists(os.path.join(data_folder, str(i) + '.jpeg'))"
   ]
  },
  {
   "cell_type": "markdown",
   "metadata": {},
   "source": [
    "# EDA Images\n",
    "\n",
    "TODO:\n",
    "* image resolutions --> DONE (can also find median/quartiles if we want)\n",
    "* describe pixel values/ranges --> DONE (max values)\n",
    "* split into train/val/test (70/10/20%) but ensure right/left images do not leak across train/val/test\n",
    "* normalize/preproc?\n"
   ]
  },
  {
   "cell_type": "markdown",
   "metadata": {},
   "source": [
    "Describe image size/resolution and max pixel intensity"
   ]
  },
  {
   "cell_type": "code",
   "execution_count": 4,
   "metadata": {},
   "outputs": [],
   "source": [
    "# dims = []\n",
    "# pixels = []\n",
    "\n",
    "# for count, i in enumerate(img_files):\n",
    "#     img = Image.open(os.path.join(data_folder, i))\n",
    "#     dims.append(img.size)\n",
    "#     pixels.append(img.getextrema())\n",
    "\n",
    "#     if count % 1000 == 0:\n",
    "#         print(count, 'of', len(img_files))\n",
    "\n",
    "# dims = np.array(dims)\n",
    "# pixels = np.array(pixels)\n",
    "# np.savez('../data/img_stats.npz', dims=dims, pixels=pixels)"
   ]
  },
  {
   "cell_type": "code",
   "execution_count": 16,
   "metadata": {},
   "outputs": [
    {
     "name": "stdout",
     "output_type": "stream",
     "text": [
      "dims:\n",
      "min size: [400 289]\n",
      "max size: [5184 3456]\n",
      "mean size: [3636.65524113 2473.03316632]\n",
      "std size: [801.81875595 471.46775397]\n",
      "\n",
      "max pixel intensity (RGB):\n",
      "min: [12 12 11]\n",
      "max: [255 255 255]\n",
      "mean: [245.51340887 225.93053579 184.52767181]\n",
      "std: [24.02297008 35.57556396 51.26361613]\n"
     ]
    }
   ],
   "source": [
    "dims = np.load('../data/img_stats.npz')['dims']\n",
    "pixels = np.load('../data/img_stats.npz')['pixels']\n",
    "\n",
    "print('dims:')\n",
    "print('min size:', np.min(dims, axis=0))\n",
    "print('max size:', np.max(dims, axis=0))\n",
    "print('mean size:', np.mean(dims, axis=0))\n",
    "print('std size:', np.std(dims, axis=0))\n",
    "print()\n",
    "\n",
    "# pixel_mins = pixels[:, :, 0] --> all 0s\n",
    "pixel_maxs = pixels[:, :, 1]\n",
    "\n",
    "print(f'max pixel intensity (RGB):')\n",
    "print('min:', np.min(pixel_maxs, axis=0))\n",
    "print('max:', np.max(pixel_maxs, axis=0))\n",
    "print('mean:', np.mean(pixel_maxs, axis=0))\n",
    "print('std:', np.std(pixel_maxs, axis=0))"
   ]
  },
  {
   "cell_type": "code",
   "execution_count": 17,
   "metadata": {},
   "outputs": [
    {
     "data": {
      "image/png": "[encoded data removed]",
      "text/plain": [
       "<Figure size 800x600 with 1 Axes>"
      ]
     },
     "metadata": {},
     "output_type": "display_data"
    }
   ],
   "source": [
    "# Convert dims to numpy array\n",
    "widths, heights = dims[:, 0], dims[:, 1]\n",
    "\n",
    "# Scatter plot of image dimensions\n",
    "plt.figure(figsize=(8, 6))\n",
    "plt.scatter(widths, heights, alpha=0.5, color='blue', edgecolors='black')\n",
    "\n",
    "plt.title(\"Image Dimension Scatter Plot\")\n",
    "plt.xlabel(\"Width (pixels)\")\n",
    "plt.ylabel(\"Height (pixels)\")\n",
    "plt.grid(True)\n",
    "\n",
    "plt.show()"
   ]
  },
  {
   "cell_type": "markdown",
   "metadata": {},
   "source": [
    "# EDA Labels\n",
    "\n",
    "TODO:\n",
    "* nan values? --> DONE\n",
    "* label freqs --> DONE\n",
    "* label breakdown by right vs left eye? --> DONE"
   ]
  },
  {
   "cell_type": "markdown",
   "metadata": {},
   "source": [
    "convert level to class label"
   ]
  },
  {
   "cell_type": "code",
   "execution_count": 18,
   "metadata": {},
   "outputs": [
    {
     "data": {
      "text/html": [
       "<div>\n",
       "<style scoped>\n",
       "    .dataframe tbody tr th:only-of-type {\n",
       "        vertical-align: middle;\n",
       "    }\n",
       "\n",
       "    .dataframe tbody tr th {\n",
       "        vertical-align: top;\n",
       "    }\n",
       "\n",
       "    .dataframe thead th {\n",
       "        text-align: right;\n",
       "    }\n",
       "</style>\n",
       "<table border=\"1\" class=\"dataframe\">\n",
       "  <thead>\n",
       "    <tr style=\"text-align: right;\">\n",
       "      <th></th>\n",
       "      <th>image</th>\n",
       "      <th>level</th>\n",
       "      <th>label</th>\n",
       "    </tr>\n",
       "  </thead>\n",
       "  <tbody>\n",
       "    <tr>\n",
       "      <th>0</th>\n",
       "      <td>10_left</td>\n",
       "      <td>0</td>\n",
       "      <td>0-No DR</td>\n",
       "    </tr>\n",
       "    <tr>\n",
       "      <th>1</th>\n",
       "      <td>10_right</td>\n",
       "      <td>0</td>\n",
       "      <td>0-No DR</td>\n",
       "    </tr>\n",
       "    <tr>\n",
       "      <th>2</th>\n",
       "      <td>13_left</td>\n",
       "      <td>0</td>\n",
       "      <td>0-No DR</td>\n",
       "    </tr>\n",
       "    <tr>\n",
       "      <th>3</th>\n",
       "      <td>13_right</td>\n",
       "      <td>0</td>\n",
       "      <td>0-No DR</td>\n",
       "    </tr>\n",
       "    <tr>\n",
       "      <th>4</th>\n",
       "      <td>15_left</td>\n",
       "      <td>1</td>\n",
       "      <td>1-Mild</td>\n",
       "    </tr>\n",
       "    <tr>\n",
       "      <th>...</th>\n",
       "      <td>...</td>\n",
       "      <td>...</td>\n",
       "      <td>...</td>\n",
       "    </tr>\n",
       "    <tr>\n",
       "      <th>35121</th>\n",
       "      <td>44347_right</td>\n",
       "      <td>0</td>\n",
       "      <td>0-No DR</td>\n",
       "    </tr>\n",
       "    <tr>\n",
       "      <th>35122</th>\n",
       "      <td>44348_left</td>\n",
       "      <td>0</td>\n",
       "      <td>0-No DR</td>\n",
       "    </tr>\n",
       "    <tr>\n",
       "      <th>35123</th>\n",
       "      <td>44348_right</td>\n",
       "      <td>0</td>\n",
       "      <td>0-No DR</td>\n",
       "    </tr>\n",
       "    <tr>\n",
       "      <th>35124</th>\n",
       "      <td>44349_left</td>\n",
       "      <td>0</td>\n",
       "      <td>0-No DR</td>\n",
       "    </tr>\n",
       "    <tr>\n",
       "      <th>35125</th>\n",
       "      <td>44349_right</td>\n",
       "      <td>1</td>\n",
       "      <td>1-Mild</td>\n",
       "    </tr>\n",
       "  </tbody>\n",
       "</table>\n",
       "<p>35126 rows × 3 columns</p>\n",
       "</div>"
      ],
      "text/plain": [
       "             image  level    label\n",
       "0          10_left      0  0-No DR\n",
       "1         10_right      0  0-No DR\n",
       "2          13_left      0  0-No DR\n",
       "3         13_right      0  0-No DR\n",
       "4          15_left      1   1-Mild\n",
       "...            ...    ...      ...\n",
       "35121  44347_right      0  0-No DR\n",
       "35122   44348_left      0  0-No DR\n",
       "35123  44348_right      0  0-No DR\n",
       "35124   44349_left      0  0-No DR\n",
       "35125  44349_right      1   1-Mild\n",
       "\n",
       "[35126 rows x 3 columns]"
      ]
     },
     "execution_count": 18,
     "metadata": {},
     "output_type": "execute_result"
    }
   ],
   "source": [
    "labels\n",
    "labels_map = {0: '0-No DR', 1: '1-Mild', 2: '2-Moderate', 3: '3-Severe', 4: '4-Proliferative DR'}  \n",
    "labels['label'] = labels['level'].map(labels_map)\n",
    "labels"
   ]
  },
  {
   "cell_type": "markdown",
   "metadata": {},
   "source": [
    "Check if there are any nan values in the dataset:"
   ]
  },
  {
   "cell_type": "code",
   "execution_count": 19,
   "metadata": {},
   "outputs": [
    {
     "data": {
      "text/plain": [
       "image    0\n",
       "level    0\n",
       "label    0\n",
       "dtype: int64"
      ]
     },
     "execution_count": 19,
     "metadata": {},
     "output_type": "execute_result"
    }
   ],
   "source": [
    "labels.isna().sum()"
   ]
  },
  {
   "cell_type": "markdown",
   "metadata": {},
   "source": [
    "Analyze the label frequencies:"
   ]
  },
  {
   "cell_type": "code",
   "execution_count": 20,
   "metadata": {},
   "outputs": [
    {
     "name": "stdout",
     "output_type": "stream",
     "text": [
      "label\n",
      "0-No DR               25810\n",
      "1-Mild                 2443\n",
      "2-Moderate             5292\n",
      "3-Severe                873\n",
      "4-Proliferative DR      708\n",
      "Name: count, dtype: int64\n",
      "\n",
      "label\n",
      "0-No DR               0.734783\n",
      "1-Mild                0.069550\n",
      "2-Moderate            0.150658\n",
      "3-Severe              0.024853\n",
      "4-Proliferative DR    0.020156\n",
      "Name: proportion, dtype: float64\n"
     ]
    }
   ],
   "source": [
    "# label frequencies\n",
    "print(labels['label'].value_counts().sort_index())\n",
    "print()\n",
    "print(labels['label'].value_counts(normalize=True).sort_index())"
   ]
  },
  {
   "cell_type": "markdown",
   "metadata": {},
   "source": [
    "Visualizing the data label breakup:"
   ]
  },
  {
   "cell_type": "code",
   "execution_count": 21,
   "metadata": {},
   "outputs": [
    {
     "data": {
      "image/png": "[encoded data removed]",
      "text/plain": [
       "<Figure size 640x480 with 1 Axes>"
      ]
     },
     "metadata": {},
     "output_type": "display_data"
    }
   ],
   "source": [
    "sns.countplot(x='label', data=labels)\n",
    "plt.title(\"Distribution of Diabetic Retinopathy Severity Labels\")\n",
    "plt.show()"
   ]
  },
  {
   "cell_type": "markdown",
   "metadata": {},
   "source": [
    "Determine how similar labels are for left vs right eyes:"
   ]
  },
  {
   "cell_type": "code",
   "execution_count": 22,
   "metadata": {},
   "outputs": [
    {
     "name": "stdout",
     "output_type": "stream",
     "text": [
      "left eye\n",
      "label\n",
      "0-No DR               12871\n",
      "1-Mild                 1212\n",
      "2-Moderate             2702\n",
      "3-Severe                425\n",
      "4-Proliferative DR      353\n",
      "Name: count, dtype: int64\n",
      "\n",
      "label\n",
      "0-No DR               0.732847\n",
      "1-Mild                0.069009\n",
      "2-Moderate            0.153846\n",
      "3-Severe              0.024199\n",
      "4-Proliferative DR    0.020099\n",
      "Name: proportion, dtype: float64\n",
      "\n",
      "\n",
      "right eye\n",
      "label\n",
      "0-No DR               12939\n",
      "1-Mild                 1231\n",
      "2-Moderate             2590\n",
      "3-Severe                448\n",
      "4-Proliferative DR      355\n",
      "Name: count, dtype: int64\n",
      "\n",
      "label\n",
      "0-No DR               0.736719\n",
      "1-Mild                0.070091\n",
      "2-Moderate            0.147469\n",
      "3-Severe              0.025508\n",
      "4-Proliferative DR    0.020213\n",
      "Name: proportion, dtype: float64\n"
     ]
    }
   ],
   "source": [
    "leye_labels = labels[labels['image'].str.contains('_left')]\n",
    "reye_labels = labels[labels['image'].str.contains('_right')]\n",
    "\n",
    "print('left eye')\n",
    "print(leye_labels['label'].value_counts().sort_index())\n",
    "print()\n",
    "print(leye_labels['label'].value_counts(normalize=True).sort_index())\n",
    "\n",
    "print()\n",
    "print()\n",
    "\n",
    "print('right eye')\n",
    "print(reye_labels['label'].value_counts().sort_index())\n",
    "print()\n",
    "print(reye_labels['label'].value_counts(normalize=True).sort_index())"
   ]
  },
  {
   "cell_type": "markdown",
   "metadata": {},
   "source": [
    "Determine how similar labels are for the left/right eye of the same patient:"
   ]
  },
  {
   "cell_type": "code",
   "execution_count": 23,
   "metadata": {},
   "outputs": [
    {
     "name": "stdout",
     "output_type": "stream",
     "text": [
      "number of patients: 17563\n",
      "number of patients with different eye labels: 2240\n",
      "min diff: 1\n",
      "max diff: 4\n",
      "mean diff: 1.3607142857142858\n",
      "median diff: 1.0\n"
     ]
    }
   ],
   "source": [
    "import numpy as np\n",
    "\n",
    "pts = labels['image'].str.split('_').str[0].unique()\n",
    "\n",
    "diff = []\n",
    "for id in pts:\n",
    "    leye = labels[labels['image'] == id+'_left']['level'].values\n",
    "    reye = labels[labels['image'] == id+'_right']['level'].values\n",
    "    if not leye == reye:\n",
    "        diff.append(np.abs(leye - reye))\n",
    "\n",
    "print('number of patients:', len(pts))\n",
    "print('number of patients with different eye labels:', len(diff))\n",
    "print('min diff:', np.min(diff))\n",
    "print('max diff:', np.max(diff))\n",
    "print('mean diff:', np.mean(diff))\n",
    "print('median diff:', np.median(diff))"
   ]
  },
  {
   "cell_type": "code",
   "execution_count": 26,
   "metadata": {},
   "outputs": [
    {
     "data": {
      "image/png": "[encoded data removed]",
      "text/plain": [
       "<Figure size 800x500 with 1 Axes>"
      ]
     },
     "metadata": {},
     "output_type": "display_data"
    }
   ],
   "source": [
    "# Assuming diff is a NumPy array or list of scalar values\n",
    "diff = np.array(diff)\n",
    "\n",
    "# Plot histogram\n",
    "plt.figure(figsize=(8, 5))\n",
    "plt.hist(diff, bins=np.arange(0.5, 5.5, 1),  # Ensure bins are centered on 1,2,3,4\n",
    "         color='blue', edgecolor='black', alpha=0.7)\n",
    "\n",
    "plt.title(\"Distribution of Label Differences Between Left and Right Eye\")\n",
    "plt.xlabel(\"Absolute Difference in Label\")\n",
    "plt.ylabel(\"Number of Patients\")\n",
    "plt.xticks([1, 2, 3, 4])  # Ensure x-axis labels are only 1-4\n",
    "\n",
    "plt.show()"
   ]
  }
 ],
 "metadata": {
  "kernelspec": {
   "display_name": "pdac",
   "language": "python",
   "name": "python3"
  },
  "language_info": {
   "codemirror_mode": {
    "name": "ipython",
    "version": 3
   },
   "file_extension": ".py",
   "mimetype": "text/x-python",
   "name": "python",
   "nbconvert_exporter": "python",
   "pygments_lexer": "ipython3",
   "version": "3.13.2"
  }
 },
 "nbformat": 4,
 "nbformat_minor": 2
}
