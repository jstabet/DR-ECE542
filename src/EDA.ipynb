{
 "cells": [
  {
   "cell_type": "markdown",
   "metadata": {},
   "source": [
    "# EDA"
   ]
  },
  {
   "cell_type": "markdown",
   "metadata": {},
   "source": [
    "load data"
   ]
  },
  {
   "cell_type": "code",
   "execution_count": 63,
   "metadata": {},
   "outputs": [
    {
     "data": {
      "text/html": [
       "<div>\n",
       "<style scoped>\n",
       "    .dataframe tbody tr th:only-of-type {\n",
       "        vertical-align: middle;\n",
       "    }\n",
       "\n",
       "    .dataframe tbody tr th {\n",
       "        vertical-align: top;\n",
       "    }\n",
       "\n",
       "    .dataframe thead th {\n",
       "        text-align: right;\n",
       "    }\n",
       "</style>\n",
       "<table border=\"1\" class=\"dataframe\">\n",
       "  <thead>\n",
       "    <tr style=\"text-align: right;\">\n",
       "      <th></th>\n",
       "      <th>image</th>\n",
       "      <th>level</th>\n",
       "    </tr>\n",
       "  </thead>\n",
       "  <tbody>\n",
       "    <tr>\n",
       "      <th>0</th>\n",
       "      <td>10_left</td>\n",
       "      <td>0</td>\n",
       "    </tr>\n",
       "    <tr>\n",
       "      <th>1</th>\n",
       "      <td>10_right</td>\n",
       "      <td>0</td>\n",
       "    </tr>\n",
       "    <tr>\n",
       "      <th>2</th>\n",
       "      <td>13_left</td>\n",
       "      <td>0</td>\n",
       "    </tr>\n",
       "    <tr>\n",
       "      <th>3</th>\n",
       "      <td>13_right</td>\n",
       "      <td>0</td>\n",
       "    </tr>\n",
       "    <tr>\n",
       "      <th>4</th>\n",
       "      <td>15_left</td>\n",
       "      <td>1</td>\n",
       "    </tr>\n",
       "    <tr>\n",
       "      <th>...</th>\n",
       "      <td>...</td>\n",
       "      <td>...</td>\n",
       "    </tr>\n",
       "    <tr>\n",
       "      <th>35121</th>\n",
       "      <td>44347_right</td>\n",
       "      <td>0</td>\n",
       "    </tr>\n",
       "    <tr>\n",
       "      <th>35122</th>\n",
       "      <td>44348_left</td>\n",
       "      <td>0</td>\n",
       "    </tr>\n",
       "    <tr>\n",
       "      <th>35123</th>\n",
       "      <td>44348_right</td>\n",
       "      <td>0</td>\n",
       "    </tr>\n",
       "    <tr>\n",
       "      <th>35124</th>\n",
       "      <td>44349_left</td>\n",
       "      <td>0</td>\n",
       "    </tr>\n",
       "    <tr>\n",
       "      <th>35125</th>\n",
       "      <td>44349_right</td>\n",
       "      <td>1</td>\n",
       "    </tr>\n",
       "  </tbody>\n",
       "</table>\n",
       "<p>35126 rows × 2 columns</p>\n",
       "</div>"
      ],
      "text/plain": [
       "             image  level\n",
       "0          10_left      0\n",
       "1         10_right      0\n",
       "2          13_left      0\n",
       "3         13_right      0\n",
       "4          15_left      1\n",
       "...            ...    ...\n",
       "35121  44347_right      0\n",
       "35122   44348_left      0\n",
       "35123  44348_right      0\n",
       "35124   44349_left      0\n",
       "35125  44349_right      1\n",
       "\n",
       "[35126 rows x 2 columns]"
      ]
     },
     "execution_count": 63,
     "metadata": {},
     "output_type": "execute_result"
    }
   ],
   "source": [
    "import os\n",
    "import pandas as pd\n",
    "\n",
    "data_folder = '../data/train'\n",
    "img_files = os.listdir(data_folder)\n",
    "\n",
    "labels = pd.read_csv('../data/trainLabels.csv')\n",
    "labels"
   ]
  },
  {
   "cell_type": "markdown",
   "metadata": {},
   "source": [
    "make sure train imgs/labels match"
   ]
  },
  {
   "cell_type": "code",
   "execution_count": 64,
   "metadata": {},
   "outputs": [],
   "source": [
    "assert len(img_files) == len(labels)\n",
    "for i in labels['image']:\n",
    "    assert os.path.exists(os.path.join(data_folder, str(i) + '.jpeg'))"
   ]
  },
  {
   "cell_type": "markdown",
   "metadata": {},
   "source": [
    "# EDA Images\n",
    "\n",
    "TODO:\n",
    "* image resolutions --> DONE (can also find median/quartiles if we want)\n",
    "* describe pixel values/ranges --> takes too long, ~20min\n",
    "* split into train/val/test (70/10/20%) but ensure right/left images do not leak across train/val/test\n",
    "* normalize/preproc?\n"
   ]
  },
  {
   "cell_type": "markdown",
   "metadata": {},
   "source": [
    "describe image size/resolution"
   ]
  },
  {
   "cell_type": "code",
   "execution_count": 65,
   "metadata": {},
   "outputs": [
    {
     "name": "stdout",
     "output_type": "stream",
     "text": [
      "min size: [400 289]\n",
      "max size: [5184 3456]\n",
      "mean size: [3636.65524113 2473.03316632]\n",
      "std size: [801.81875595 471.46775397]\n"
     ]
    }
   ],
   "source": [
    "from PIL import Image\n",
    "import numpy as np\n",
    "\n",
    "dims = []\n",
    "\n",
    "for i in img_files:\n",
    "    img = Image.open(os.path.join(data_folder, i))\n",
    "    dims.append(img.size)\n",
    "\n",
    "dims = np.array(dims)\n",
    "print('min size:', np.min(dims, axis=0))\n",
    "print('max size:', np.max(dims, axis=0))\n",
    "print('mean size:', np.mean(dims, axis=0))\n",
    "print('std size:', np.std(dims, axis=0))"
   ]
  },
  {
   "cell_type": "markdown",
   "metadata": {},
   "source": [
    "# EDA Labels\n",
    "\n",
    "TODO:\n",
    "* nan values? --> DONE\n",
    "* label freqs --> DONE\n",
    "* label breakdown by right vs left eye?"
   ]
  },
  {
   "cell_type": "markdown",
   "metadata": {},
   "source": [
    "convert level to class label"
   ]
  },
  {
   "cell_type": "code",
   "execution_count": 66,
   "metadata": {},
   "outputs": [
    {
     "data": {
      "text/html": [
       "<div>\n",
       "<style scoped>\n",
       "    .dataframe tbody tr th:only-of-type {\n",
       "        vertical-align: middle;\n",
       "    }\n",
       "\n",
       "    .dataframe tbody tr th {\n",
       "        vertical-align: top;\n",
       "    }\n",
       "\n",
       "    .dataframe thead th {\n",
       "        text-align: right;\n",
       "    }\n",
       "</style>\n",
       "<table border=\"1\" class=\"dataframe\">\n",
       "  <thead>\n",
       "    <tr style=\"text-align: right;\">\n",
       "      <th></th>\n",
       "      <th>image</th>\n",
       "      <th>level</th>\n",
       "      <th>label</th>\n",
       "    </tr>\n",
       "  </thead>\n",
       "  <tbody>\n",
       "    <tr>\n",
       "      <th>0</th>\n",
       "      <td>10_left</td>\n",
       "      <td>0</td>\n",
       "      <td>0-No DR</td>\n",
       "    </tr>\n",
       "    <tr>\n",
       "      <th>1</th>\n",
       "      <td>10_right</td>\n",
       "      <td>0</td>\n",
       "      <td>0-No DR</td>\n",
       "    </tr>\n",
       "    <tr>\n",
       "      <th>2</th>\n",
       "      <td>13_left</td>\n",
       "      <td>0</td>\n",
       "      <td>0-No DR</td>\n",
       "    </tr>\n",
       "    <tr>\n",
       "      <th>3</th>\n",
       "      <td>13_right</td>\n",
       "      <td>0</td>\n",
       "      <td>0-No DR</td>\n",
       "    </tr>\n",
       "    <tr>\n",
       "      <th>4</th>\n",
       "      <td>15_left</td>\n",
       "      <td>1</td>\n",
       "      <td>1-Mild</td>\n",
       "    </tr>\n",
       "    <tr>\n",
       "      <th>...</th>\n",
       "      <td>...</td>\n",
       "      <td>...</td>\n",
       "      <td>...</td>\n",
       "    </tr>\n",
       "    <tr>\n",
       "      <th>35121</th>\n",
       "      <td>44347_right</td>\n",
       "      <td>0</td>\n",
       "      <td>0-No DR</td>\n",
       "    </tr>\n",
       "    <tr>\n",
       "      <th>35122</th>\n",
       "      <td>44348_left</td>\n",
       "      <td>0</td>\n",
       "      <td>0-No DR</td>\n",
       "    </tr>\n",
       "    <tr>\n",
       "      <th>35123</th>\n",
       "      <td>44348_right</td>\n",
       "      <td>0</td>\n",
       "      <td>0-No DR</td>\n",
       "    </tr>\n",
       "    <tr>\n",
       "      <th>35124</th>\n",
       "      <td>44349_left</td>\n",
       "      <td>0</td>\n",
       "      <td>0-No DR</td>\n",
       "    </tr>\n",
       "    <tr>\n",
       "      <th>35125</th>\n",
       "      <td>44349_right</td>\n",
       "      <td>1</td>\n",
       "      <td>1-Mild</td>\n",
       "    </tr>\n",
       "  </tbody>\n",
       "</table>\n",
       "<p>35126 rows × 3 columns</p>\n",
       "</div>"
      ],
      "text/plain": [
       "             image  level    label\n",
       "0          10_left      0  0-No DR\n",
       "1         10_right      0  0-No DR\n",
       "2          13_left      0  0-No DR\n",
       "3         13_right      0  0-No DR\n",
       "4          15_left      1   1-Mild\n",
       "...            ...    ...      ...\n",
       "35121  44347_right      0  0-No DR\n",
       "35122   44348_left      0  0-No DR\n",
       "35123  44348_right      0  0-No DR\n",
       "35124   44349_left      0  0-No DR\n",
       "35125  44349_right      1   1-Mild\n",
       "\n",
       "[35126 rows x 3 columns]"
      ]
     },
     "execution_count": 66,
     "metadata": {},
     "output_type": "execute_result"
    }
   ],
   "source": [
    "labels\n",
    "labels_map = {0: '0-No DR', 1: '1-Mild', 2: '2-Moderate', 3: '3-Severe', 4: '4-Proliferative DR'}  \n",
    "labels['label'] = labels['level'].map(labels_map)\n",
    "labels"
   ]
  },
  {
   "cell_type": "markdown",
   "metadata": {},
   "source": [
    "check if there are any nan values"
   ]
  },
  {
   "cell_type": "code",
   "execution_count": 67,
   "metadata": {},
   "outputs": [
    {
     "data": {
      "text/plain": [
       "image    0\n",
       "level    0\n",
       "label    0\n",
       "dtype: int64"
      ]
     },
     "execution_count": 67,
     "metadata": {},
     "output_type": "execute_result"
    }
   ],
   "source": [
    "labels.isna().sum()"
   ]
  },
  {
   "cell_type": "markdown",
   "metadata": {},
   "source": [
    "print label frequencies"
   ]
  },
  {
   "cell_type": "code",
   "execution_count": 68,
   "metadata": {},
   "outputs": [
    {
     "name": "stdout",
     "output_type": "stream",
     "text": [
      "label\n",
      "0-No DR               25810\n",
      "1-Mild                 2443\n",
      "2-Moderate             5292\n",
      "3-Severe                873\n",
      "4-Proliferative DR      708\n",
      "Name: count, dtype: int64\n",
      "\n",
      "label\n",
      "0-No DR               0.734783\n",
      "1-Mild                0.069550\n",
      "2-Moderate            0.150658\n",
      "3-Severe              0.024853\n",
      "4-Proliferative DR    0.020156\n",
      "Name: proportion, dtype: float64\n"
     ]
    }
   ],
   "source": [
    "# label frequencies\n",
    "print(labels['label'].value_counts().sort_index())\n",
    "print()\n",
    "print(labels['label'].value_counts(normalize=True).sort_index())"
   ]
  }
 ],
 "metadata": {
  "kernelspec": {
   "display_name": "pdac",
   "language": "python",
   "name": "python3"
  },
  "language_info": {
   "codemirror_mode": {
    "name": "ipython",
    "version": 3
   },
   "file_extension": ".py",
   "mimetype": "text/x-python",
   "name": "python",
   "nbconvert_exporter": "python",
   "pygments_lexer": "ipython3",
   "version": "3.13.2"
  }
 },
 "nbformat": 4,
 "nbformat_minor": 2
}
