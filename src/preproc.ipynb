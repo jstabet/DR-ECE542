{
 "cells": [
  {
   "cell_type": "code",
   "execution_count": null,
   "metadata": {},
   "outputs": [
    {
     "name": "stderr",
     "output_type": "stream",
     "text": [
      "100%|██████████| 35126/35126 [26:27<00:00, 22.13it/s]\n"
     ]
    },
    {
     "name": "stdout",
     "output_type": "stream",
     "text": [
      "torch.Size([35126, 3, 224, 224])\n"
     ]
    }
   ],
   "source": [
    "import pandas as pd\n",
    "import torch\n",
    "from torchvision import models\n",
    "from utils import DRDataset\n",
    "import tqdm\n",
    "\n",
    "labels = pd.read_csv('../data/trainLabels.csv')\n",
    "data = DRDataset(labels, '../data/train', preproc=models.ResNet50_Weights.DEFAULT.transforms())\n",
    "\n",
    "images = []\n",
    "for image, _ in tqdm.tqdm(data):\n",
    "    images.append(image)\n",
    "\n",
    "all_images = torch.stack(images)\n",
    "print(all_images.shape)\n",
    "torch.save(all_images, '../data/preproc_train_imgs.pth')"
   ]
  }
 ],
 "metadata": {
  "kernelspec": {
   "display_name": "dr",
   "language": "python",
   "name": "python3"
  },
  "language_info": {
   "codemirror_mode": {
    "name": "ipython",
    "version": 3
   },
   "file_extension": ".py",
   "mimetype": "text/x-python",
   "name": "python",
   "nbconvert_exporter": "python",
   "pygments_lexer": "ipython3",
   "version": "3.13.2"
  }
 },
 "nbformat": 4,
 "nbformat_minor": 2
}
